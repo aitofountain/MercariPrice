{
 "cells": [
  {
   "cell_type": "code",
   "execution_count": 1,
   "metadata": {
    "collapsed": true
   },
   "outputs": [],
   "source": [
    "import pandas as pd\n",
    "import numpy as np"
   ]
  },
  {
   "cell_type": "code",
   "execution_count": 9,
   "metadata": {
    "scrolled": true
   },
   "outputs": [],
   "source": [
    "train_data = pd.read_csv('/Volumes/UUI/data/Kaggle/MercariPrice/train.tsv',sep='\\t')"
   ]
  },
  {
   "cell_type": "code",
   "execution_count": 11,
   "metadata": {},
   "outputs": [
    {
     "name": "stdout",
     "output_type": "stream",
     "text": [
      "<class 'pandas.core.frame.DataFrame'>\n",
      "RangeIndex: 1482535 entries, 0 to 1482534\n",
      "Data columns (total 8 columns):\n",
      "train_id             1482535 non-null int64\n",
      "name                 1482535 non-null object\n",
      "item_condition_id    1482535 non-null int64\n",
      "category_name        1476208 non-null object\n",
      "brand_name           849853 non-null object\n",
      "price                1482535 non-null float64\n",
      "shipping             1482535 non-null int64\n",
      "item_description     1482531 non-null object\n",
      "dtypes: float64(1), int64(3), object(4)\n",
      "memory usage: 90.5+ MB\n"
     ]
    }
   ],
   "source": [
    "train_data.info()"
   ]
  },
  {
   "cell_type": "code",
   "execution_count": 13,
   "metadata": {
    "collapsed": true
   },
   "outputs": [
    {
     "data": {
      "text/plain": [
       "10.0      99416\n",
       "12.0      78986\n",
       "14.0      76655\n",
       "16.0      66413\n",
       "9.0       63643\n",
       "8.0       61564\n",
       "15.0      58082\n",
       "20.0      56323\n",
       "7.0       52268\n",
       "18.0      41243\n",
       "24.0      40797\n",
       "11.0      39786\n",
       "19.0      37729\n",
       "13.0      36800\n",
       "26.0      33531\n",
       "25.0      32450\n",
       "6.0       32260\n",
       "5.0       31502\n",
       "21.0      28996\n",
       "22.0      28012\n",
       "30.0      25386\n",
       "29.0      21793\n",
       "17.0      21334\n",
       "34.0      18816\n",
       "36.0      18718\n",
       "3.0       18703\n",
       "31.0      17414\n",
       "40.0      16545\n",
       "4.0       16139\n",
       "35.0      15943\n",
       "          ...  \n",
       "1299.0        1\n",
       "671.0         1\n",
       "719.0         1\n",
       "1165.0        1\n",
       "774.0         1\n",
       "72.5          1\n",
       "771.0         1\n",
       "770.0         1\n",
       "452.0         1\n",
       "766.0         1\n",
       "1058.0        1\n",
       "764.0         1\n",
       "760.0         1\n",
       "1064.0        1\n",
       "1070.0        1\n",
       "755.0         1\n",
       "754.0         1\n",
       "1081.0        1\n",
       "1095.0        1\n",
       "749.0         1\n",
       "745.0         1\n",
       "68.5          1\n",
       "744.0         1\n",
       "816.0         1\n",
       "1140.0        1\n",
       "1150.0        1\n",
       "31.5          1\n",
       "45.5          1\n",
       "727.0         1\n",
       "378.0         1\n",
       "Name: price, Length: 828, dtype: int64"
      ]
     },
     "execution_count": 13,
     "metadata": {},
     "output_type": "execute_result"
    }
   ],
   "source": [
    "train_data.price.value_counts()"
   ]
  }
 ],
 "metadata": {
  "kernelspec": {
   "display_name": "Python 3",
   "language": "python",
   "name": "python3"
  },
  "language_info": {
   "codemirror_mode": {
    "name": "ipython",
    "version": 3
   },
   "file_extension": ".py",
   "mimetype": "text/x-python",
   "name": "python",
   "nbconvert_exporter": "python",
   "pygments_lexer": "ipython3",
   "version": "3.5.3"
  }
 },
 "nbformat": 4,
 "nbformat_minor": 2
}
